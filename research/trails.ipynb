{
  "cells": [
    {
      "cell_type": "code",
      "source": [
        "!wget https://github.com/HashamAkram18/Self_Hosted_DB_repo/raw/main/Chicken-fecal-images.zip"
      ],
      "metadata": {
        "colab": {
          "base_uri": "https://localhost:8080/"
        },
        "id": "K4gL_LeHeVN0",
        "outputId": "c9a4c598-a1bf-480f-d95d-515c8b2fd039"
      },
      "execution_count": 7,
      "outputs": [
        {
          "output_type": "stream",
          "name": "stdout",
          "text": [
            "--2024-03-20 10:49:01--  https://github.com/HashamAkram18/Self_Hosted_DB_repo/raw/main/Chicken-fecal-images.zip\n",
            "Resolving github.com (github.com)... 20.205.243.166\n",
            "Connecting to github.com (github.com)|20.205.243.166|:443... connected.\n",
            "HTTP request sent, awaiting response... 302 Found\n",
            "Location: https://raw.githubusercontent.com/HashamAkram18/Self_Hosted_DB_repo/main/Chicken-fecal-images.zip [following]\n",
            "--2024-03-20 10:49:01--  https://raw.githubusercontent.com/HashamAkram18/Self_Hosted_DB_repo/main/Chicken-fecal-images.zip\n",
            "Resolving raw.githubusercontent.com (raw.githubusercontent.com)... 185.199.108.133, 185.199.109.133, 185.199.110.133, ...\n",
            "Connecting to raw.githubusercontent.com (raw.githubusercontent.com)|185.199.108.133|:443... connected.\n",
            "HTTP request sent, awaiting response... 200 OK\n",
            "Length: 10044554 (9.6M) [application/zip]\n",
            "Saving to: ‘Chicken-fecal-images.zip’\n",
            "\n",
            "Chicken-fecal-image 100%[===================>]   9.58M  --.-KB/s    in 0.03s   \n",
            "\n",
            "2024-03-20 10:49:02 (351 MB/s) - ‘Chicken-fecal-images.zip’ saved [10044554/10044554]\n",
            "\n"
          ]
        }
      ]
    },
    {
      "cell_type": "code",
      "source": [
        "import zipfile\n",
        "zip_ref = zipfile.ZipFile('/content/Chicken-fecal-images.zip', 'r')\n",
        "zip_ref.extractall('/content')\n",
        "zip_ref.close()"
      ],
      "metadata": {
        "id": "BIft02fLevwz"
      },
      "execution_count": 8,
      "outputs": []
    },
    {
      "cell_type": "code",
      "execution_count": 42,
      "metadata": {
        "colab": {
          "base_uri": "https://localhost:8080/"
        },
        "id": "dXJjdYP9VgUB",
        "outputId": "d4a397ce-0690-4d19-ebe0-350e09889854"
      },
      "outputs": [
        {
          "output_type": "stream",
          "name": "stdout",
          "text": [
            "2.15.0\n"
          ]
        }
      ],
      "source": [
        "import tensorflow as tf\n",
        "print(tf.__version__)\n"
      ]
    },
    {
      "cell_type": "code",
      "execution_count": 43,
      "metadata": {
        "id": "R6qIjzGcVgUN"
      },
      "outputs": [],
      "source": [
        "import tensorflow as tf\n",
        "from tensorflow import keras\n",
        "from keras import Sequential\n",
        "from keras.layers import Dense,Flatten\n",
        "from keras.applications.vgg16 import VGG16\n",
        "\n",
        "\n",
        "from keras.preprocessing.image import (ImageDataGenerator,\n",
        "                                       array_to_img,\n",
        "                                       img_to_array,\n",
        "                                       load_img)"
      ]
    },
    {
      "cell_type": "code",
      "execution_count": 44,
      "metadata": {
        "id": "TtJY2m2IVgUR"
      },
      "outputs": [],
      "source": [
        "conv_base = VGG16(\n",
        "    weights='imagenet',\n",
        "    include_top = False,\n",
        "    input_shape=(244,244,3)\n",
        ")"
      ]
    },
    {
      "cell_type": "code",
      "execution_count": 45,
      "metadata": {
        "id": "Yd9XP3JdVgUR"
      },
      "outputs": [],
      "source": [
        "model = Sequential()\n",
        "\n",
        "model.add(conv_base)\n",
        "model.add(Flatten())\n",
        "model.add(Dense(256,activation='relu'))\n",
        "model.add(Dense(units=2,activation='softmax'))"
      ]
    },
    {
      "cell_type": "code",
      "execution_count": 46,
      "metadata": {
        "id": "n1yJbJtYVgUS"
      },
      "outputs": [],
      "source": [
        "conv_base.trainable = False"
      ]
    },
    {
      "cell_type": "code",
      "execution_count": 47,
      "metadata": {
        "id": "MMvCqmuwVgUT"
      },
      "outputs": [],
      "source": [
        "from keras.preprocessing.image import ImageDataGenerator, array_to_img, img_to_array, load_img"
      ]
    },
    {
      "cell_type": "code",
      "source": [
        "def train_valid_generator(data_path: str, augmentation: bool):\n",
        "    datagenerator_kwargs = dict(rescale=1./255, validation_split=0.2)\n",
        "    dataflow_kwargs = dict(target_size=(224, 224), batch_size=32, interpolation=\"bilinear\")\n",
        "    valid_datagenerator = tf.keras.preprocessing.image.ImageDataGenerator(**datagenerator_kwargs)\n",
        "    if augmentation:\n",
        "        train_datagen = ImageDataGenerator(\n",
        "            rescale=1./255,\n",
        "            rotation_range=40,\n",
        "            horizontal_flip=True,\n",
        "            width_shift_range=0.2,\n",
        "            height_shift_range=0.2,\n",
        "            shear_range=0.2,\n",
        "            zoom_range=0.2)\n",
        "        train_generator = train_datagen.flow_from_directory(\n",
        "            directory=data_path,\n",
        "            subset=\"training\",\n",
        "            shuffle=True,\n",
        "            **dataflow_kwargs)\n",
        "    else:\n",
        "        train_generator = valid_datagenerator.flow_from_directory(\n",
        "            directory=data_path,\n",
        "            subset=\"training\",\n",
        "            shuffle=True,\n",
        "            **dataflow_kwargs)\n",
        "    valid_generator = valid_datagenerator.flow_from_directory(\n",
        "        directory=data_path,\n",
        "        subset=\"validation\",\n",
        "        shuffle=False,\n",
        "        **dataflow_kwargs)\n",
        "    return train_generator, valid_generator"
      ],
      "metadata": {
        "id": "-diLEVCqbULz"
      },
      "execution_count": 50,
      "outputs": []
    },
    {
      "cell_type": "code",
      "source": [
        "train_generator, validation_generator =train_valid_generator(\"/content/Chicken-fecal-images\", True)"
      ],
      "metadata": {
        "colab": {
          "base_uri": "https://localhost:8080/"
        },
        "id": "CzmX2YNkmtmM",
        "outputId": "b44bf3cc-efe8-4a6b-ebc4-43d8d7e868f0"
      },
      "execution_count": 51,
      "outputs": [
        {
          "output_type": "stream",
          "name": "stdout",
          "text": [
            "Found 339 images belonging to 2 classes.\n",
            "Found 67 images belonging to 2 classes.\n"
          ]
        }
      ]
    },
    {
      "cell_type": "code",
      "source": [
        "model.compile(optimizer='adam',loss='binary_crossentropy',metrics=['accuracy'])"
      ],
      "metadata": {
        "id": "gjyXOIq3pPmY"
      },
      "execution_count": 52,
      "outputs": []
    },
    {
      "cell_type": "code",
      "source": [
        "model.summary()"
      ],
      "metadata": {
        "colab": {
          "base_uri": "https://localhost:8080/"
        },
        "id": "TBShD_j4qTwN",
        "outputId": "642c2ea9-efaa-4625-fa96-090cc1b9afee"
      },
      "execution_count": 53,
      "outputs": [
        {
          "output_type": "stream",
          "name": "stdout",
          "text": [
            "Model: \"sequential_5\"\n",
            "_________________________________________________________________\n",
            " Layer (type)                Output Shape              Param #   \n",
            "=================================================================\n",
            " vgg16 (Functional)          (None, 7, 7, 512)         14714688  \n",
            "                                                                 \n",
            " flatten_5 (Flatten)         (None, 25088)             0         \n",
            "                                                                 \n",
            " dense_10 (Dense)            (None, 256)               6422784   \n",
            "                                                                 \n",
            " dense_11 (Dense)            (None, 2)                 514       \n",
            "                                                                 \n",
            "=================================================================\n",
            "Total params: 21137986 (80.64 MB)\n",
            "Trainable params: 6423298 (24.50 MB)\n",
            "Non-trainable params: 14714688 (56.13 MB)\n",
            "_________________________________________________________________\n"
          ]
        }
      ]
    },
    {
      "cell_type": "code",
      "source": [
        "history = model.fit_generator(\n",
        "        train_generator,\n",
        "        steps_per_epoch=train_generator.n // train_generator.batch_size,\n",
        "        epochs=10,\n",
        "        validation_data=validation_generator,\n",
        "        validation_steps=validation_generator.n // validation_generator.batch_size)"
      ],
      "metadata": {
        "colab": {
          "base_uri": "https://localhost:8080/"
        },
        "id": "DxQsUT9cnho0",
        "outputId": "83372d0e-ee89-4d2a-9054-9a5743ad5285"
      },
      "execution_count": 54,
      "outputs": [
        {
          "output_type": "stream",
          "name": "stderr",
          "text": [
            "<ipython-input-54-49c0e2b32b78>:1: UserWarning: `Model.fit_generator` is deprecated and will be removed in a future version. Please use `Model.fit`, which supports generators.\n",
            "  history = model.fit_generator(\n"
          ]
        },
        {
          "output_type": "stream",
          "name": "stdout",
          "text": [
            "Epoch 1/10\n",
            "10/10 [==============================] - 11s 1s/step - loss: 1.5913 - accuracy: 0.6938 - val_loss: 0.6010 - val_accuracy: 0.8281\n",
            "Epoch 2/10\n",
            "10/10 [==============================] - 5s 462ms/step - loss: 0.3666 - accuracy: 0.8860 - val_loss: 0.3760 - val_accuracy: 0.8594\n",
            "Epoch 3/10\n",
            "10/10 [==============================] - 5s 510ms/step - loss: 0.2470 - accuracy: 0.9121 - val_loss: 0.2348 - val_accuracy: 0.9219\n",
            "Epoch 4/10\n",
            "10/10 [==============================] - 6s 560ms/step - loss: 0.1245 - accuracy: 0.9500 - val_loss: 0.1742 - val_accuracy: 0.9375\n",
            "Epoch 5/10\n",
            "10/10 [==============================] - 5s 483ms/step - loss: 0.1504 - accuracy: 0.9381 - val_loss: 0.1601 - val_accuracy: 0.9531\n",
            "Epoch 6/10\n",
            "10/10 [==============================] - 5s 527ms/step - loss: 0.0968 - accuracy: 0.9674 - val_loss: 0.1430 - val_accuracy: 0.9531\n",
            "Epoch 7/10\n",
            "10/10 [==============================] - 5s 475ms/step - loss: 0.0971 - accuracy: 0.9642 - val_loss: 0.1084 - val_accuracy: 0.9531\n",
            "Epoch 8/10\n",
            "10/10 [==============================] - 5s 529ms/step - loss: 0.1127 - accuracy: 0.9479 - val_loss: 0.0796 - val_accuracy: 0.9688\n",
            "Epoch 9/10\n",
            "10/10 [==============================] - 5s 445ms/step - loss: 0.0715 - accuracy: 0.9805 - val_loss: 0.0702 - val_accuracy: 0.9688\n",
            "Epoch 10/10\n",
            "10/10 [==============================] - 5s 548ms/step - loss: 0.0792 - accuracy: 0.9642 - val_loss: 0.0703 - val_accuracy: 0.9688\n"
          ]
        }
      ]
    },
    {
      "cell_type": "code",
      "source": [
        "import matplotlib.pyplot as plt\n",
        "\n",
        "plt.plot(history.history['accuracy'],color='red',label='train')\n",
        "plt.plot(history.history['val_accuracy'],color='blue',label='validation')\n",
        "plt.legend()\n",
        "plt.show()"
      ],
      "metadata": {
        "colab": {
          "base_uri": "https://localhost:8080/",
          "height": 430
        },
        "id": "4Xm88tQArbKx",
        "outputId": "7fe5e431-b544-4ed8-ad76-ec12bd17b19b"
      },
      "execution_count": 55,
      "outputs": [
        {
          "output_type": "display_data",
          "data": {
            "text/plain": [
              "<Figure size 640x480 with 1 Axes>"
            ],
            "image/png": "[encoded data removed]"
          },
          "metadata": {}
        }
      ]
    },
    {
      "cell_type": "code",
      "source": [
        "plt.plot(history.history['loss'],color='red',label='train')\n",
        "plt.plot(history.history['val_loss'],color='blue',label='validation')\n",
        "plt.legend()\n",
        "plt.show()"
      ],
      "metadata": {
        "colab": {
          "base_uri": "https://localhost:8080/",
          "height": 430
        },
        "id": "72Zrp64zrgZL",
        "outputId": "5c15588f-7c82-41b7-b4d6-863997564484"
      },
      "execution_count": 56,
      "outputs": [
        {
          "output_type": "display_data",
          "data": {
            "text/plain": [
              "<Figure size 640x480 with 1 Axes>"
            ],
            "image/png": "[encoded data removed]"
          },
          "metadata": {}
        }
      ]
    },
    {
      "cell_type": "code",
      "source": [
        "model.save(\"chicken_disease_classifier.keras\")"
      ],
      "metadata": {
        "id": "W6IZkqWurhEA"
      },
      "execution_count": 58,
      "outputs": []
    },
    {
      "cell_type": "code",
      "source": [],
      "metadata": {
        "id": "fdJC0qLyvh7x"
      },
      "execution_count": null,
      "outputs": []
    }
  ],
  "metadata": {
    "kernelspec": {
      "display_name": "Python 3",
      "name": "python3"
    },
    "language_info": {
      "codemirror_mode": {
        "name": "ipython",
        "version": 3
      },
      "file_extension": ".py",
      "mimetype": "text/x-python",
      "name": "python",
      "nbconvert_exporter": "python",
      "pygments_lexer": "ipython3",
      "version": "3.12.1"
    },
    "colab": {
      "provenance": [],
      "gpuType": "T4"
    },
    "accelerator": "GPU"
  },
  "nbformat": 4,
  "nbformat_minor": 0
}